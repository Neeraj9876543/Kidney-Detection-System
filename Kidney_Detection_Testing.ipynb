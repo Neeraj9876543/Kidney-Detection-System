{
  "nbformat": 4,
  "nbformat_minor": 0,
  "metadata": {
    "colab": {
      "provenance": []
    },
    "kernelspec": {
      "name": "python3",
      "display_name": "Python 3"
    },
    "language_info": {
      "name": "python"
    }
  },
  "cells": [
    {
      "cell_type": "code",
      "execution_count": 12,
      "metadata": {
        "colab": {
          "base_uri": "https://localhost:8080/"
        },
        "id": "E4IBXQRW3qdC",
        "outputId": "ea36493c-d325-4718-bd9d-50a21d5a9573"
      },
      "outputs": [
        {
          "name": "stdout",
          "output_type": "stream",
          "text": [
            "enter id:25\n",
            "enter age:23\n",
            "enter bp:1\n",
            "enter sg:1\n",
            "enter al:1\n",
            "enter su:1\n",
            "enter bgr:1\n",
            "enter bu:1\n",
            "enter sc:1\n",
            "enter sod:1\n",
            "enter dm_yes:1\n",
            "enter cad_no:1\n",
            "enter cad_yes:1\n",
            "enter appet_good:1\n",
            "enter appet_poor:1\n",
            "enter pe_no:1\n",
            "enter pe_yes:1\n",
            "enter ane_no:1\n",
            "enter ane_yes:1\n",
            "enter classification_ckd:1\n"
          ]
        },
        {
          "output_type": "execute_result",
          "data": {
            "text/plain": [
              "[25, 23, 1, 1, 1, 1, 1, 1, 1, 1, 1, 1, 1, 1, 1, 1, 1, 1, 1, 1]"
            ]
          },
          "metadata": {},
          "execution_count": 12
        }
      ],
      "source": [
        "labels = ['id',\t'age',\t'bp',\t'sg',\t'al',\t'su',\t'bgr',\t'bu',\t'sc',\t'sod','dm_yes',\t'cad_no',\t'cad_yes',\t'appet_good',\t'appet_poor',\t'pe_no',\t'pe_yes',\t'ane_no',\t'ane_yes',\t'classification_ckd']\n",
        "inputs = []\n",
        "for lable in labels:\n",
        "  inputs.append(int(input('enter '+ lable + ':')))\n",
        "inputs"
      ]
    },
    {
      "cell_type": "code",
      "source": [
        "in_array = np.array([inputs], dtype='float32')\n",
        "result = models.predict(in_array)\n",
        "\n",
        "if result > 0.5:\n",
        "    print(\"Kidney Disease\")\n",
        "else:\n",
        "    print(\"No Kidney Disease\")"
      ],
      "metadata": {
        "colab": {
          "base_uri": "https://localhost:8080/"
        },
        "id": "Jtt6t-_u457v",
        "outputId": "4a18eeee-7bbd-47f1-8c9c-30ee6a4a967f"
      },
      "execution_count": 17,
      "outputs": [
        {
          "output_type": "stream",
          "name": "stdout",
          "text": [
            "\u001b[1m1/1\u001b[0m \u001b[32m━━━━━━━━━━━━━━━━━━━━\u001b[0m\u001b[37m\u001b[0m \u001b[1m0s\u001b[0m 33ms/step\n",
            "No Kidney Disease\n"
          ]
        }
      ]
    }
  ]
}